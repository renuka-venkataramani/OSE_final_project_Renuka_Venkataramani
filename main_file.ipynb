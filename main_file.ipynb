{
 "cells": [
  {
   "cell_type": "code",
   "execution_count": 1,
   "metadata": {},
   "outputs": [],
   "source": [
    "# import required libraries and functions\n",
    "import pandas as pd\n",
    "import numpy as np\n",
    "import torch\n",
    "import datetime\n",
    "import io\n",
    "import string\n",
    "from src.utilities import read_yaml\n",
    "from src.config import BLD, SRC\n",
    "from src.Data_cleaning_preprocessing.preprocessing_functions import (\n",
    "    delete_redundant_cols,\n",
    "    filter_crypto_tweets,\n",
    "    _is_complete,\n",
    "    remove_hashtag,\n",
    "    filter_and_join_sentences,\n",
    "    load_data,\n",
    "    remove_punctuations,\n",
    "    remove_stopwords,\n",
    "    remove_spl_chars,\n",
    "    _get_pos,\n",
    "    lemmatize_words,\n",
    "    remove_url,\n",
    "    remove_html_tags,\n",
    "    remove_mentions,\n",
    "    frequent_words_calc,\n",
    "    remove_freq_words,\n",
    "    ten_rare_words_calc,\n",
    "    remove_rare_words,\n",
    ")\n",
    "from src.Sentiment_analysis.sentiment_analysis import sentiment_analysis\n",
    "from sklearn.model_selection import train_test_split\n",
    "from sklearn.linear_model import LogisticRegression\n",
    "from sklearn.metrics import classification_report, accuracy_score\n",
    "from sklearn.preprocessing import LabelEncoder\n",
    "import warnings\n",
    "warnings.filterwarnings('ignore')\n",
    "import seaborn as sns\n",
    "import matplotlib.pyplot as plt"
   ]
  },
  {
   "cell_type": "code",
   "execution_count": 2,
   "metadata": {},
   "outputs": [],
   "source": [
    "# Join the collected tweets per year into a single DataFrame\n",
    "data_2019 = pd.read_csv(\"https://www.dropbox.com/scl/fi/rlv1o11a3i69cu5c3n2gf/bitcoin_2019.csv?rlkey=htirxqdui6kjprcnu0db6jm04&dl=1\")\n",
    "data_2020 = pd.read_csv(\"https://www.dropbox.com/scl/fi/b1ba3pza6yzrryil6hjia/bitcoin_2020.csv?rlkey=grgz3slmf3qbkumoh3adjthqh&dl=1\")\n",
    "data_2021 = pd.read_csv(\"https://www.dropbox.com/scl/fi/pqkklkpxx9440axexf03o/bitcoin_2021.csv?rlkey=1uv4ngwpe3im4hrbu90hij844&dl=1\")\n",
    "bitcoin_tweets = pd.DataFrame()\n",
    "bitcoin_tweets = pd.concat([data_2019, data_2020, data_2021], axis = 0)\n",
    "#bitcoin_tweets.sample(frac=1).head(10)"
   ]
  },
  {
   "cell_type": "markdown",
   "metadata": {},
   "source": [
    "## <p align=\"center\">Data Cleaning and Data pre-processing techniques</p>"
   ]
  },
  {
   "cell_type": "markdown",
   "metadata": {},
   "source": [
    "### I. Data Cleaning \n",
    "\n",
    "#### Step 1: Remove duplicates, NaN values, drop redundant columns and rename the columns"
   ]
  },
  {
   "cell_type": "code",
   "execution_count": 3,
   "metadata": {},
   "outputs": [
    {
     "data": {
      "text/plain": [
       "(76179, 2)"
      ]
     },
     "execution_count": 3,
     "metadata": {},
     "output_type": "execute_result"
    }
   ],
   "source": [
    "# Clean the Dataframe - Remove duplicates, NaN values, drop redundant columns and rename the columns\n",
    "clean_tweets = delete_redundant_cols(df = bitcoin_tweets, cols = ['1','0','Unnamed: 0.1','Unnamed: 0']) # remove unwanted columns\n",
    "clean_tweets.columns = ['Date', 'tweet'] # rename columns\n",
    "clean_tweets = clean_tweets.drop_duplicates()\n",
    "clean_tweets = clean_tweets.dropna(how = 'any')\n",
    "clean_tweets.shape\n"
   ]
  },
  {
   "cell_type": "markdown",
   "metadata": {},
   "source": [
    "#### Step 2: Only keep tweets that are complete (not broken), keep tweets that are related to cryptocurrency and Bitcoin. Discard unwanted tweets, if any"
   ]
  },
  {
   "cell_type": "code",
   "execution_count": 4,
   "metadata": {},
   "outputs": [
    {
     "data": {
      "text/plain": [
       "(13149, 2)"
      ]
     },
     "execution_count": 4,
     "metadata": {},
     "output_type": "execute_result"
    }
   ],
   "source": [
    "# filter_and_join_sentences() removes incomplete tweets.\n",
    "clean_tweets['tweet'] = clean_tweets['tweet'].apply(lambda x: filter_and_join_sentences(x)) \n",
    "# Rows of tweets that were removed are dropped\n",
    "clean_tweets = clean_tweets.replace('', pd.NA).dropna()\n",
    "# crypto_corpus.yaml file contains list of keywords related to the sentiment analysis of cryptocurrency tweets\n",
    "crypto_corpus = read_yaml(SRC / \"Data_cleaning_preprocessing\" / \"crypto_corpus.yaml\")\n",
    "# filter_crypto_tweets drops tweets that are not related to cryptocurrency\n",
    "clean_tweets = filter_crypto_tweets(df = clean_tweets, text = 'tweet', crypto_corpus = crypto_corpus)\n",
    "clean_tweets.shape"
   ]
  },
  {
   "cell_type": "markdown",
   "metadata": {},
   "source": [
    "### II. Data Pre-processing\n",
    "\n",
    "#### Employed the following techniques - lower case conversion, remove punctuations, hashtags, @mentions, URLs, Special Characters, stop words, Lemmatization and Parts of Speech tagging "
   ]
  },
  {
   "cell_type": "code",
   "execution_count": 5,
   "metadata": {},
   "outputs": [],
   "source": [
    "## convert to lower case\n",
    "clean_tweets['tweet'] = clean_tweets['tweet'].str.lower()\n",
    "## removal of punctuations\n",
    "clean_tweets['tweet'] = clean_tweets['tweet'].apply(lambda x: remove_punctuations(x))\n",
    "## removal of stop words (Removal of pronouns)\n",
    "clean_tweets['tweet'] = clean_tweets['tweet'].apply(lambda x: remove_stopwords(x))\n",
    "## Removal of special characters\n",
    "clean_tweets['tweet'] = clean_tweets['tweet'].apply(lambda x: remove_spl_chars(x))\n",
    "# Lemmatization and PART OF SPEECH tagging\n",
    "clean_tweets['tweet'] = clean_tweets['tweet'].apply(lambda x: lemmatize_words(x))\n",
    "# Removal of URLS\n",
    "clean_tweets['tweet'] = clean_tweets['tweet'].apply(lambda x: remove_url(x))\n",
    "# Removal of HTML Tags\n",
    "clean_tweets['tweet'] = clean_tweets['tweet'].apply(lambda x: remove_html_tags(x))\n",
    "# Remove hashtag (#) but keep the word\n",
    "clean_tweets['tweet'] = clean_tweets['tweet'].map(lambda x: remove_hashtag(x))\n",
    "#Replace @ (mentions) with @user\n",
    "clean_tweets['tweet'] = clean_tweets['tweet'].apply(lambda x: remove_mentions(x))\n"
   ]
  },
  {
   "cell_type": "code",
   "execution_count": 6,
   "metadata": {},
   "outputs": [
    {
     "data": {
      "text/html": [
       "<div>\n",
       "<style scoped>\n",
       "    .dataframe tbody tr th:only-of-type {\n",
       "        vertical-align: middle;\n",
       "    }\n",
       "\n",
       "    .dataframe tbody tr th {\n",
       "        vertical-align: top;\n",
       "    }\n",
       "\n",
       "    .dataframe thead th {\n",
       "        text-align: right;\n",
       "    }\n",
       "</style>\n",
       "<table border=\"1\" class=\"dataframe\">\n",
       "  <thead>\n",
       "    <tr style=\"text-align: right;\">\n",
       "      <th></th>\n",
       "      <th>Date</th>\n",
       "      <th>tweet</th>\n",
       "    </tr>\n",
       "  </thead>\n",
       "  <tbody>\n",
       "    <tr>\n",
       "      <th>25218</th>\n",
       "      <td>2021-12-25 22:46:00</td>\n",
       "      <td>let switch bit send 10000 tonight would</td>\n",
       "    </tr>\n",
       "    <tr>\n",
       "      <th>14899</th>\n",
       "      <td>2020-08-14 22:31:00</td>\n",
       "      <td>tezos 4 cheap tezos 5 cheap tezos 6 cheap see ...</td>\n",
       "    </tr>\n",
       "    <tr>\n",
       "      <th>4585</th>\n",
       "      <td>2021-03-06 18:55:00</td>\n",
       "      <td>experience sight sound collapse empire hyperin...</td>\n",
       "    </tr>\n",
       "    <tr>\n",
       "      <th>12932</th>\n",
       "      <td>2021-07-06 21:47:00</td>\n",
       "      <td>busy work today</td>\n",
       "    </tr>\n",
       "    <tr>\n",
       "      <th>17537</th>\n",
       "      <td>2019-08-21 12:07:00</td>\n",
       "      <td>love fact everyone else soo bsv scale etc long...</td>\n",
       "    </tr>\n",
       "    <tr>\n",
       "      <th>5676</th>\n",
       "      <td>2021-03-12 18:00:00</td>\n",
       "      <td>need help</td>\n",
       "    </tr>\n",
       "    <tr>\n",
       "      <th>5950</th>\n",
       "      <td>2020-03-25 20:38:00</td>\n",
       "      <td>bull legs emperor clothes</td>\n",
       "    </tr>\n",
       "    <tr>\n",
       "      <th>19877</th>\n",
       "      <td>2021-10-18 22:32:00</td>\n",
       "      <td>1 contango really matter much impact</td>\n",
       "    </tr>\n",
       "    <tr>\n",
       "      <th>25693</th>\n",
       "      <td>2019-12-01 15:30:00</td>\n",
       "      <td>bull market bear market obvious intuitive ever...</td>\n",
       "    </tr>\n",
       "    <tr>\n",
       "      <th>18011</th>\n",
       "      <td>2020-09-03 16:11:00</td>\n",
       "      <td>seem like one classic fearfueled sell everythi...</td>\n",
       "    </tr>\n",
       "  </tbody>\n",
       "</table>\n",
       "</div>"
      ],
      "text/plain": [
       "                     Date                                              tweet\n",
       "25218 2021-12-25 22:46:00            let switch bit send 10000 tonight would\n",
       "14899 2020-08-14 22:31:00  tezos 4 cheap tezos 5 cheap tezos 6 cheap see ...\n",
       "4585  2021-03-06 18:55:00  experience sight sound collapse empire hyperin...\n",
       "12932 2021-07-06 21:47:00                                    busy work today\n",
       "17537 2019-08-21 12:07:00  love fact everyone else soo bsv scale etc long...\n",
       "5676  2021-03-12 18:00:00                                          need help\n",
       "5950  2020-03-25 20:38:00                          bull legs emperor clothes\n",
       "19877 2021-10-18 22:32:00               1 contango really matter much impact\n",
       "25693 2019-12-01 15:30:00  bull market bear market obvious intuitive ever...\n",
       "18011 2020-09-03 16:11:00  seem like one classic fearfueled sell everythi..."
      ]
     },
     "execution_count": 6,
     "metadata": {},
     "output_type": "execute_result"
    }
   ],
   "source": [
    "# Standardize date formats\n",
    "clean_tweets['Date'] = pd.to_datetime(clean_tweets['Date']).dt.floor('T')\n",
    "clean_tweets['Date'] = pd.to_datetime(clean_tweets['Date']).dt.tz_localize(None)\n",
    "clean_tweets.sample(frac=1).head(10)"
   ]
  },
  {
   "cell_type": "code",
   "execution_count": 7,
   "metadata": {},
   "outputs": [
    {
     "data": {
      "text/html": [
       "<div>\n",
       "<style scoped>\n",
       "    .dataframe tbody tr th:only-of-type {\n",
       "        vertical-align: middle;\n",
       "    }\n",
       "\n",
       "    .dataframe tbody tr th {\n",
       "        vertical-align: top;\n",
       "    }\n",
       "\n",
       "    .dataframe thead th {\n",
       "        text-align: right;\n",
       "    }\n",
       "</style>\n",
       "<table border=\"1\" class=\"dataframe\">\n",
       "  <thead>\n",
       "    <tr style=\"text-align: right;\">\n",
       "      <th></th>\n",
       "      <th>Date</th>\n",
       "      <th>tweet</th>\n",
       "    </tr>\n",
       "  </thead>\n",
       "  <tbody>\n",
       "    <tr>\n",
       "      <th>0</th>\n",
       "      <td>2019-01-12 13:41:00</td>\n",
       "      <td>week crypto 1 nasa use blockchain tech 2 tzero...</td>\n",
       "    </tr>\n",
       "    <tr>\n",
       "      <th>1</th>\n",
       "      <td>2019-01-12 18:31:00</td>\n",
       "      <td>carer sole earner often transfer profit fiat</td>\n",
       "    </tr>\n",
       "    <tr>\n",
       "      <th>3</th>\n",
       "      <td>2019-01-12 17:11:00</td>\n",
       "      <td>indian bank hunt account deal crypto dont know...</td>\n",
       "    </tr>\n",
       "    <tr>\n",
       "      <th>4</th>\n",
       "      <td>2019-01-12 15:02:00</td>\n",
       "      <td>miner free mine block theyd like devs free wri...</td>\n",
       "    </tr>\n",
       "    <tr>\n",
       "      <th>5</th>\n",
       "      <td>2019-01-12 18:41:00</td>\n",
       "      <td>can t afford go vacation</td>\n",
       "    </tr>\n",
       "  </tbody>\n",
       "</table>\n",
       "</div>"
      ],
      "text/plain": [
       "                 Date                                              tweet\n",
       "0 2019-01-12 13:41:00  week crypto 1 nasa use blockchain tech 2 tzero...\n",
       "1 2019-01-12 18:31:00       carer sole earner often transfer profit fiat\n",
       "3 2019-01-12 17:11:00  indian bank hunt account deal crypto dont know...\n",
       "4 2019-01-12 15:02:00  miner free mine block theyd like devs free wri...\n",
       "5 2019-01-12 18:41:00                           can t afford go vacation"
      ]
     },
     "execution_count": 7,
     "metadata": {},
     "output_type": "execute_result"
    }
   ],
   "source": [
    "clean = clean_tweets.copy()\n",
    "clean['Date'] = pd.to_datetime(clean['Date']).dt.floor('T')\n",
    "clean['Date'] = pd.to_datetime(clean['Date']).dt.tz_localize(None)\n",
    "clean.head()"
   ]
  },
  {
   "cell_type": "markdown",
   "metadata": {},
   "source": [
    "#### Store cleaned and preprocessed data in a .csv file"
   ]
  },
  {
   "cell_type": "code",
   "execution_count": 9,
   "metadata": {},
   "outputs": [],
   "source": [
    "#store the cleaned and pre-processed DataFrame in a .csv file\n",
    "clean_tweets.to_csv(BLD / \"data\" / \"Bitcoin_tweets_data.csv\")"
   ]
  },
  {
   "cell_type": "code",
   "execution_count": 10,
   "metadata": {},
   "outputs": [
    {
     "data": {
      "text/plain": [
       "Date     datetime64[ns]\n",
       "tweet            object\n",
       "dtype: object"
      ]
     },
     "execution_count": 10,
     "metadata": {},
     "output_type": "execute_result"
    }
   ],
   "source": [
    "clean_tweets.dtypes"
   ]
  },
  {
   "cell_type": "markdown",
   "metadata": {},
   "source": [
    "### III. Bitcoin: Historical price data  (Source: Kaggle) - 1 minute time period\n",
    "\n",
    "#### Step 1: Clean the dataset"
   ]
  },
  {
   "cell_type": "code",
   "execution_count": 11,
   "metadata": {},
   "outputs": [],
   "source": [
    "# Load the datasets\n",
    "price_data = pd.read_csv(\"https://www.dropbox.com/scl/fi/o1n9kdjhwb1vjpnig0amq/historical_price_data.csv?rlkey=4g8jubgn8x1udcbmo2cjsdj7g&dl=1\")\n",
    "price_data = price_data.drop_duplicates()\n",
    "price_data = price_data.dropna(how='any') "
   ]
  },
  {
   "cell_type": "markdown",
   "metadata": {},
   "source": [
    "#### Step 2: Converting Unix timestamps to datetime objects"
   ]
  },
  {
   "cell_type": "code",
   "execution_count": 12,
   "metadata": {},
   "outputs": [
    {
     "data": {
      "text/html": [
       "<div>\n",
       "<style scoped>\n",
       "    .dataframe tbody tr th:only-of-type {\n",
       "        vertical-align: middle;\n",
       "    }\n",
       "\n",
       "    .dataframe tbody tr th {\n",
       "        vertical-align: top;\n",
       "    }\n",
       "\n",
       "    .dataframe thead th {\n",
       "        text-align: right;\n",
       "    }\n",
       "</style>\n",
       "<table border=\"1\" class=\"dataframe\">\n",
       "  <thead>\n",
       "    <tr style=\"text-align: right;\">\n",
       "      <th></th>\n",
       "      <th>Unnamed: 0</th>\n",
       "      <th>Open</th>\n",
       "      <th>High</th>\n",
       "      <th>Low</th>\n",
       "      <th>Close</th>\n",
       "      <th>Volume</th>\n",
       "      <th>Date</th>\n",
       "    </tr>\n",
       "  </thead>\n",
       "  <tbody>\n",
       "    <tr>\n",
       "      <th>683933</th>\n",
       "      <td>3834909</td>\n",
       "      <td>5294.33</td>\n",
       "      <td>5298.58</td>\n",
       "      <td>5294.33</td>\n",
       "      <td>5298.58</td>\n",
       "      <td>4.000000</td>\n",
       "      <td>2019-04-20 22:53:00</td>\n",
       "    </tr>\n",
       "    <tr>\n",
       "      <th>1426877</th>\n",
       "      <td>4577853</td>\n",
       "      <td>10942.94</td>\n",
       "      <td>10949.18</td>\n",
       "      <td>10940.97</td>\n",
       "      <td>10949.18</td>\n",
       "      <td>1.335515</td>\n",
       "      <td>2020-09-17 21:17:00</td>\n",
       "    </tr>\n",
       "    <tr>\n",
       "      <th>705219</th>\n",
       "      <td>3856195</td>\n",
       "      <td>5696.63</td>\n",
       "      <td>5696.63</td>\n",
       "      <td>5693.13</td>\n",
       "      <td>5693.13</td>\n",
       "      <td>0.129017</td>\n",
       "      <td>2019-05-05 17:39:00</td>\n",
       "    </tr>\n",
       "    <tr>\n",
       "      <th>915878</th>\n",
       "      <td>4066854</td>\n",
       "      <td>8194.99</td>\n",
       "      <td>8195.02</td>\n",
       "      <td>8182.48</td>\n",
       "      <td>8182.87</td>\n",
       "      <td>0.301111</td>\n",
       "      <td>2019-09-29 00:38:00</td>\n",
       "    </tr>\n",
       "    <tr>\n",
       "      <th>1642105</th>\n",
       "      <td>4793081</td>\n",
       "      <td>48913.97</td>\n",
       "      <td>48943.94</td>\n",
       "      <td>48913.97</td>\n",
       "      <td>48941.91</td>\n",
       "      <td>1.213606</td>\n",
       "      <td>2021-02-14 08:25:00</td>\n",
       "    </tr>\n",
       "  </tbody>\n",
       "</table>\n",
       "</div>"
      ],
      "text/plain": [
       "         Unnamed: 0      Open      High       Low     Close    Volume  \\\n",
       "683933      3834909   5294.33   5298.58   5294.33   5298.58  4.000000   \n",
       "1426877     4577853  10942.94  10949.18  10940.97  10949.18  1.335515   \n",
       "705219      3856195   5696.63   5696.63   5693.13   5693.13  0.129017   \n",
       "915878      4066854   8194.99   8195.02   8182.48   8182.87  0.301111   \n",
       "1642105     4793081  48913.97  48943.94  48913.97  48941.91  1.213606   \n",
       "\n",
       "                       Date  \n",
       "683933  2019-04-20 22:53:00  \n",
       "1426877 2020-09-17 21:17:00  \n",
       "705219  2019-05-05 17:39:00  \n",
       "915878  2019-09-29 00:38:00  \n",
       "1642105 2021-02-14 08:25:00  "
      ]
     },
     "execution_count": 12,
     "metadata": {},
     "output_type": "execute_result"
    }
   ],
   "source": [
    "# Convert Unix timestamps to datetime objects\n",
    "price_data['Date'] = pd.to_datetime(price_data['Timestamp'], unit='s')\n",
    "\n",
    "# Filter the DataFrame to include dates from Jan 1, 2019, to Mar 31, 2021\n",
    "start_date = datetime.datetime(2019, 1, 1)\n",
    "end_date = datetime.datetime(2021, 3, 31)\n",
    "price_data = price_data[(price_data['Date'] >= start_date) & (price_data['Date'] <= end_date)]\n",
    "\n",
    "# Function to convert dates to the desired format\n",
    "def convert_to_desired_format(date):\n",
    "    return date.strftime('%Y-%m-%dT%H:%M')\n",
    "\n",
    "# Apply the conversion function to the filtered dates\n",
    "price_data['Date'] = price_data['Date'].apply(convert_to_desired_format)\n",
    "price_data = delete_redundant_cols(df = price_data, cols = ['Volume_(Currency)','Timestamp','Weighted_Price']) # remove unwanted columns\n",
    "price_data['Date'] = pd.to_datetime(price_data['Date'], format='%Y-%m-%dT%H:%M')\n",
    "\n",
    "price_data.rename(columns={'Volume_(BTC)': 'Volume'}, inplace=True) # Rename columns\n",
    "\n",
    "# Display the filtered and formatted DataFrame\n",
    "price_data.sample(frac=1).head(5)"
   ]
  },
  {
   "cell_type": "markdown",
   "metadata": {},
   "source": [
    "#### Step 3: Store cleaned historical price data in a .csv file"
   ]
  },
  {
   "cell_type": "code",
   "execution_count": 14,
   "metadata": {},
   "outputs": [],
   "source": [
    "#store the cleaned and pre-processed DataFrame in a .csv file\n",
    "price_data.to_csv(BLD / \"data\" / \"price_data.csv\")"
   ]
  },
  {
   "cell_type": "code",
   "execution_count": 15,
   "metadata": {},
   "outputs": [
    {
     "data": {
      "text/plain": [
       "Unnamed: 0             int64\n",
       "Open                 float64\n",
       "High                 float64\n",
       "Low                  float64\n",
       "Close                float64\n",
       "Volume               float64\n",
       "Date          datetime64[ns]\n",
       "dtype: object"
      ]
     },
     "execution_count": 15,
     "metadata": {},
     "output_type": "execute_result"
    }
   ],
   "source": [
    "price_data.dtypes"
   ]
  },
  {
   "cell_type": "markdown",
   "metadata": {},
   "source": [
    "### IV: Merge Tweets data and Historical price data into a single dataframe "
   ]
  },
  {
   "cell_type": "code",
   "execution_count": 16,
   "metadata": {},
   "outputs": [
    {
     "data": {
      "text/html": [
       "<div>\n",
       "<style scoped>\n",
       "    .dataframe tbody tr th:only-of-type {\n",
       "        vertical-align: middle;\n",
       "    }\n",
       "\n",
       "    .dataframe tbody tr th {\n",
       "        vertical-align: top;\n",
       "    }\n",
       "\n",
       "    .dataframe thead th {\n",
       "        text-align: right;\n",
       "    }\n",
       "</style>\n",
       "<table border=\"1\" class=\"dataframe\">\n",
       "  <thead>\n",
       "    <tr style=\"text-align: right;\">\n",
       "      <th></th>\n",
       "      <th>Unnamed: 0</th>\n",
       "      <th>Open</th>\n",
       "      <th>High</th>\n",
       "      <th>Low</th>\n",
       "      <th>Close</th>\n",
       "      <th>Volume</th>\n",
       "      <th>Date</th>\n",
       "      <th>tweet</th>\n",
       "    </tr>\n",
       "  </thead>\n",
       "  <tbody>\n",
       "    <tr>\n",
       "      <th>9337</th>\n",
       "      <td>4769411</td>\n",
       "      <td>33230.39</td>\n",
       "      <td>33292.00</td>\n",
       "      <td>33221.98</td>\n",
       "      <td>33288.01</td>\n",
       "      <td>9.935919</td>\n",
       "      <td>2021-01-28 21:55:00</td>\n",
       "      <td>assume good one come along displace one way ev...</td>\n",
       "    </tr>\n",
       "    <tr>\n",
       "      <th>9253</th>\n",
       "      <td>4755084</td>\n",
       "      <td>36546.42</td>\n",
       "      <td>36546.42</td>\n",
       "      <td>36502.82</td>\n",
       "      <td>36521.27</td>\n",
       "      <td>0.580834</td>\n",
       "      <td>2021-01-18 23:08:00</td>\n",
       "      <td>neo try tell dodge bullet morpheus neo im try ...</td>\n",
       "    </tr>\n",
       "    <tr>\n",
       "      <th>2538</th>\n",
       "      <td>3946636</td>\n",
       "      <td>11355.81</td>\n",
       "      <td>11380.00</td>\n",
       "      <td>11351.84</td>\n",
       "      <td>11372.78</td>\n",
       "      <td>16.543896</td>\n",
       "      <td>2019-07-07 13:00:00</td>\n",
       "      <td>gold 8 trillion market cap zero merchant adoption</td>\n",
       "    </tr>\n",
       "    <tr>\n",
       "      <th>9430</th>\n",
       "      <td>4782322</td>\n",
       "      <td>40183.00</td>\n",
       "      <td>40187.24</td>\n",
       "      <td>40170.76</td>\n",
       "      <td>40170.76</td>\n",
       "      <td>2.092809</td>\n",
       "      <td>2021-02-06 21:06:00</td>\n",
       "      <td>best project growth february</td>\n",
       "    </tr>\n",
       "    <tr>\n",
       "      <th>2997</th>\n",
       "      <td>3999595</td>\n",
       "      <td>11333.16</td>\n",
       "      <td>11357.18</td>\n",
       "      <td>11333.16</td>\n",
       "      <td>11350.09</td>\n",
       "      <td>8.133196</td>\n",
       "      <td>2019-08-13 07:39:00</td>\n",
       "      <td>usually fud come new project move top 10 marke...</td>\n",
       "    </tr>\n",
       "  </tbody>\n",
       "</table>\n",
       "</div>"
      ],
      "text/plain": [
       "      Unnamed: 0      Open      High       Low     Close     Volume  \\\n",
       "9337     4769411  33230.39  33292.00  33221.98  33288.01   9.935919   \n",
       "9253     4755084  36546.42  36546.42  36502.82  36521.27   0.580834   \n",
       "2538     3946636  11355.81  11380.00  11351.84  11372.78  16.543896   \n",
       "9430     4782322  40183.00  40187.24  40170.76  40170.76   2.092809   \n",
       "2997     3999595  11333.16  11357.18  11333.16  11350.09   8.133196   \n",
       "\n",
       "                    Date                                              tweet  \n",
       "9337 2021-01-28 21:55:00  assume good one come along displace one way ev...  \n",
       "9253 2021-01-18 23:08:00  neo try tell dodge bullet morpheus neo im try ...  \n",
       "2538 2019-07-07 13:00:00  gold 8 trillion market cap zero merchant adoption  \n",
       "9430 2021-02-06 21:06:00                       best project growth february  \n",
       "2997 2019-08-13 07:39:00  usually fud come new project move top 10 marke...  "
      ]
     },
     "execution_count": 16,
     "metadata": {},
     "output_type": "execute_result"
    }
   ],
   "source": [
    "# Merge dataframes based on the date columns\n",
    "merged_data = pd.merge(price_data, clean_tweets, left_on='Date', right_on='Date', how='inner')\n",
    "\n",
    "# Display the merged dataframe\n",
    "merged_data.sample(frac=1).head(5)\n"
   ]
  },
  {
   "cell_type": "markdown",
   "metadata": {},
   "source": [
    "#### Save Information about the DataFrame in a .txt file under bld/Result folder. Save DataFrame in a .csv file under bld/data folder"
   ]
  },
  {
   "cell_type": "code",
   "execution_count": 17,
   "metadata": {},
   "outputs": [],
   "source": [
    "# Create a writable buffer using io.StringIO\n",
    "buffer = io.StringIO()\n",
    "\n",
    "# Redirect the output to the buffer\n",
    "merged_data.info(buf=buffer)\n",
    "\n",
    "# Save the output to a file\n",
    "with open(BLD / \"Result\" / \"final_data_information.txt\", 'w') as file:\n",
    "    file.write(buffer.getvalue())\n",
    "\n",
    "# Close the buffer\n",
    "buffer.close()"
   ]
  },
  {
   "cell_type": "code",
   "execution_count": 19,
   "metadata": {},
   "outputs": [],
   "source": [
    "#store the cleaned and pre-processed DataFrame in a .csv file\n",
    "merged_data.to_csv(BLD / \"data\" / \"consolidated_bitcoin_data.csv\")"
   ]
  },
  {
   "cell_type": "markdown",
   "metadata": {},
   "source": [
    "## <p align=\"center\">Sentiment Analysis</p>"
   ]
  },
  {
   "cell_type": "markdown",
   "metadata": {},
   "source": [
    "### Model: Pre-trained Hugging face Model - Roberta Model \n",
    "\n",
    "The label (Positive, Negative and Neutral) with maximum score is asssigned to that particular tweet under sentiment_label column. The corrsponding score is stored in sentiment_score column. As a small addition to the model, I have also calculated the polarity score which is the Geometric Mean of Positive and Negative scores of eah tweets.  "
   ]
  },
  {
   "cell_type": "code",
   "execution_count": 20,
   "metadata": {},
   "outputs": [],
   "source": [
    "final_data = sentiment_analysis(df = merged_data, text = 'tweet')"
   ]
  },
  {
   "cell_type": "code",
   "execution_count": 21,
   "metadata": {},
   "outputs": [
    {
     "data": {
      "text/html": [
       "<div>\n",
       "<style scoped>\n",
       "    .dataframe tbody tr th:only-of-type {\n",
       "        vertical-align: middle;\n",
       "    }\n",
       "\n",
       "    .dataframe tbody tr th {\n",
       "        vertical-align: top;\n",
       "    }\n",
       "\n",
       "    .dataframe thead th {\n",
       "        text-align: right;\n",
       "    }\n",
       "</style>\n",
       "<table border=\"1\" class=\"dataframe\">\n",
       "  <thead>\n",
       "    <tr style=\"text-align: right;\">\n",
       "      <th></th>\n",
       "      <th>Unnamed: 0</th>\n",
       "      <th>Open</th>\n",
       "      <th>High</th>\n",
       "      <th>Low</th>\n",
       "      <th>Close</th>\n",
       "      <th>Volume</th>\n",
       "      <th>Date</th>\n",
       "      <th>tweet</th>\n",
       "      <th>sentiment_label</th>\n",
       "      <th>sentiment_score</th>\n",
       "      <th>polarity</th>\n",
       "    </tr>\n",
       "  </thead>\n",
       "  <tbody>\n",
       "    <tr>\n",
       "      <th>5716</th>\n",
       "      <td>4314091</td>\n",
       "      <td>5194.70</td>\n",
       "      <td>5200.78</td>\n",
       "      <td>5186.90</td>\n",
       "      <td>5192.84</td>\n",
       "      <td>5.089604</td>\n",
       "      <td>2020-03-18 17:15:00</td>\n",
       "      <td>market freeze u 7 drop likely cause even money...</td>\n",
       "      <td>Neutral</td>\n",
       "      <td>0.709548</td>\n",
       "      <td>0.084689</td>\n",
       "    </tr>\n",
       "    <tr>\n",
       "      <th>2456</th>\n",
       "      <td>3939831</td>\n",
       "      <td>10809.49</td>\n",
       "      <td>10826.52</td>\n",
       "      <td>10809.48</td>\n",
       "      <td>10813.07</td>\n",
       "      <td>12.628948</td>\n",
       "      <td>2019-07-02 19:35:00</td>\n",
       "      <td>couple coin print parabolic launchpad pattern</td>\n",
       "      <td>Neutral</td>\n",
       "      <td>0.895860</td>\n",
       "      <td>0.052025</td>\n",
       "    </tr>\n",
       "    <tr>\n",
       "      <th>678</th>\n",
       "      <td>3749123</td>\n",
       "      <td>3914.62</td>\n",
       "      <td>3915.74</td>\n",
       "      <td>3914.62</td>\n",
       "      <td>3914.89</td>\n",
       "      <td>0.049152</td>\n",
       "      <td>2019-02-20 09:07:00</td>\n",
       "      <td>idea headline well could take satoshis coin wo...</td>\n",
       "      <td>Neutral</td>\n",
       "      <td>0.850066</td>\n",
       "      <td>0.051010</td>\n",
       "    </tr>\n",
       "  </tbody>\n",
       "</table>\n",
       "</div>"
      ],
      "text/plain": [
       "      Unnamed: 0      Open      High       Low     Close     Volume  \\\n",
       "5716     4314091   5194.70   5200.78   5186.90   5192.84   5.089604   \n",
       "2456     3939831  10809.49  10826.52  10809.48  10813.07  12.628948   \n",
       "678      3749123   3914.62   3915.74   3914.62   3914.89   0.049152   \n",
       "\n",
       "                    Date                                              tweet  \\\n",
       "5716 2020-03-18 17:15:00  market freeze u 7 drop likely cause even money...   \n",
       "2456 2019-07-02 19:35:00      couple coin print parabolic launchpad pattern   \n",
       "678  2019-02-20 09:07:00  idea headline well could take satoshis coin wo...   \n",
       "\n",
       "     sentiment_label  sentiment_score  polarity  \n",
       "5716         Neutral         0.709548  0.084689  \n",
       "2456         Neutral         0.895860  0.052025  \n",
       "678          Neutral         0.850066  0.051010  "
      ]
     },
     "execution_count": 21,
     "metadata": {},
     "output_type": "execute_result"
    }
   ],
   "source": [
    "final_data.sample(frac=1).head(3)"
   ]
  },
  {
   "cell_type": "code",
   "execution_count": 22,
   "metadata": {},
   "outputs": [
    {
     "name": "stdout",
     "output_type": "stream",
     "text": [
      "sentiment_label\n",
      "Neutral     6821\n",
      "Negative    1945\n",
      "Positive    1182\n",
      "Name: count, dtype: int64\n"
     ]
    }
   ],
   "source": [
    "# Frequency of unique labels in sentiment_label column\n",
    "print(final_data['sentiment_label'].value_counts())"
   ]
  },
  {
   "cell_type": "code",
   "execution_count": 23,
   "metadata": {},
   "outputs": [
    {
     "data": {
      "text/html": [
       "<div>\n",
       "<style scoped>\n",
       "    .dataframe tbody tr th:only-of-type {\n",
       "        vertical-align: middle;\n",
       "    }\n",
       "\n",
       "    .dataframe tbody tr th {\n",
       "        vertical-align: top;\n",
       "    }\n",
       "\n",
       "    .dataframe thead th {\n",
       "        text-align: right;\n",
       "    }\n",
       "</style>\n",
       "<table border=\"1\" class=\"dataframe\">\n",
       "  <thead>\n",
       "    <tr style=\"text-align: right;\">\n",
       "      <th></th>\n",
       "      <th>Unnamed: 0</th>\n",
       "      <th>Open</th>\n",
       "      <th>High</th>\n",
       "      <th>Low</th>\n",
       "      <th>Close</th>\n",
       "      <th>Volume</th>\n",
       "      <th>Date</th>\n",
       "      <th>sentiment_score</th>\n",
       "      <th>polarity</th>\n",
       "    </tr>\n",
       "  </thead>\n",
       "  <tbody>\n",
       "    <tr>\n",
       "      <th>count</th>\n",
       "      <td>9.948000e+03</td>\n",
       "      <td>9948.000000</td>\n",
       "      <td>9948.000000</td>\n",
       "      <td>9948.000000</td>\n",
       "      <td>9948.000000</td>\n",
       "      <td>9948.000000</td>\n",
       "      <td>9948</td>\n",
       "      <td>9948.000000</td>\n",
       "      <td>9948.000000</td>\n",
       "    </tr>\n",
       "    <tr>\n",
       "      <th>mean</th>\n",
       "      <td>4.238393e+06</td>\n",
       "      <td>11945.399188</td>\n",
       "      <td>11953.382156</td>\n",
       "      <td>11936.873699</td>\n",
       "      <td>11944.992800</td>\n",
       "      <td>7.316530</td>\n",
       "      <td>2020-01-26 03:37:18.112183552</td>\n",
       "      <td>0.721824</td>\n",
       "      <td>0.099086</td>\n",
       "    </tr>\n",
       "    <tr>\n",
       "      <th>min</th>\n",
       "      <td>3.676592e+06</td>\n",
       "      <td>3354.200000</td>\n",
       "      <td>3355.770000</td>\n",
       "      <td>3354.200000</td>\n",
       "      <td>3354.460000</td>\n",
       "      <td>0.000088</td>\n",
       "      <td>2019-01-01 00:16:00</td>\n",
       "      <td>0.368255</td>\n",
       "      <td>0.016496</td>\n",
       "    </tr>\n",
       "    <tr>\n",
       "      <th>25%</th>\n",
       "      <td>3.942427e+06</td>\n",
       "      <td>7088.285000</td>\n",
       "      <td>7096.107500</td>\n",
       "      <td>7086.347500</td>\n",
       "      <td>7091.067500</td>\n",
       "      <td>0.395122</td>\n",
       "      <td>2019-07-04 14:51:00</td>\n",
       "      <td>0.613945</td>\n",
       "      <td>0.068013</td>\n",
       "    </tr>\n",
       "    <tr>\n",
       "      <th>50%</th>\n",
       "      <td>4.240078e+06</td>\n",
       "      <td>9150.955000</td>\n",
       "      <td>9154.770000</td>\n",
       "      <td>9149.225000</td>\n",
       "      <td>9150.355000</td>\n",
       "      <td>1.777627</td>\n",
       "      <td>2020-01-27 07:42:00</td>\n",
       "      <td>0.733072</td>\n",
       "      <td>0.093113</td>\n",
       "    </tr>\n",
       "    <tr>\n",
       "      <th>75%</th>\n",
       "      <td>4.534649e+06</td>\n",
       "      <td>10968.117500</td>\n",
       "      <td>10974.412500</td>\n",
       "      <td>10957.695000</td>\n",
       "      <td>10964.712500</td>\n",
       "      <td>6.038305</td>\n",
       "      <td>2020-08-18 21:12:45</td>\n",
       "      <td>0.830716</td>\n",
       "      <td>0.122015</td>\n",
       "    </tr>\n",
       "    <tr>\n",
       "      <th>max</th>\n",
       "      <td>4.855581e+06</td>\n",
       "      <td>61420.110000</td>\n",
       "      <td>61439.840000</td>\n",
       "      <td>61364.430000</td>\n",
       "      <td>61413.420000</td>\n",
       "      <td>569.982583</td>\n",
       "      <td>2021-03-29 18:05:00</td>\n",
       "      <td>0.990916</td>\n",
       "      <td>0.321335</td>\n",
       "    </tr>\n",
       "    <tr>\n",
       "      <th>std</th>\n",
       "      <td>3.367017e+05</td>\n",
       "      <td>11083.845761</td>\n",
       "      <td>11092.388697</td>\n",
       "      <td>11074.275226</td>\n",
       "      <td>11083.341197</td>\n",
       "      <td>21.372701</td>\n",
       "      <td>NaN</td>\n",
       "      <td>0.130085</td>\n",
       "      <td>0.042461</td>\n",
       "    </tr>\n",
       "  </tbody>\n",
       "</table>\n",
       "</div>"
      ],
      "text/plain": [
       "         Unnamed: 0          Open          High           Low         Close  \\\n",
       "count  9.948000e+03   9948.000000   9948.000000   9948.000000   9948.000000   \n",
       "mean   4.238393e+06  11945.399188  11953.382156  11936.873699  11944.992800   \n",
       "min    3.676592e+06   3354.200000   3355.770000   3354.200000   3354.460000   \n",
       "25%    3.942427e+06   7088.285000   7096.107500   7086.347500   7091.067500   \n",
       "50%    4.240078e+06   9150.955000   9154.770000   9149.225000   9150.355000   \n",
       "75%    4.534649e+06  10968.117500  10974.412500  10957.695000  10964.712500   \n",
       "max    4.855581e+06  61420.110000  61439.840000  61364.430000  61413.420000   \n",
       "std    3.367017e+05  11083.845761  11092.388697  11074.275226  11083.341197   \n",
       "\n",
       "            Volume                           Date  sentiment_score  \\\n",
       "count  9948.000000                           9948      9948.000000   \n",
       "mean      7.316530  2020-01-26 03:37:18.112183552         0.721824   \n",
       "min       0.000088            2019-01-01 00:16:00         0.368255   \n",
       "25%       0.395122            2019-07-04 14:51:00         0.613945   \n",
       "50%       1.777627            2020-01-27 07:42:00         0.733072   \n",
       "75%       6.038305            2020-08-18 21:12:45         0.830716   \n",
       "max     569.982583            2021-03-29 18:05:00         0.990916   \n",
       "std      21.372701                            NaN         0.130085   \n",
       "\n",
       "          polarity  \n",
       "count  9948.000000  \n",
       "mean      0.099086  \n",
       "min       0.016496  \n",
       "25%       0.068013  \n",
       "50%       0.093113  \n",
       "75%       0.122015  \n",
       "max       0.321335  \n",
       "std       0.042461  "
      ]
     },
     "execution_count": 23,
     "metadata": {},
     "output_type": "execute_result"
    }
   ],
   "source": [
    "final_data.describe()"
   ]
  },
  {
   "cell_type": "code",
   "execution_count": 25,
   "metadata": {},
   "outputs": [],
   "source": [
    "# store the cleaned and pre-processed DataFrame in a .csv file\n",
    "final_data.to_csv(BLD / \"Data\" / \"sentiment_result_data.csv\")"
   ]
  },
  {
   "cell_type": "markdown",
   "metadata": {},
   "source": [
    "## <p align=\"center\">Impact of Social Media sentiments on Cryptocurrency market volatility</p>\n",
    "\n",
    "#### Model: Logistic Regression\n",
    "#### Step 1: Create a Categorical Target Variable - Price Direction. \n",
    "If Daily return calculated is negative (positive), Price Direction == direction_down (direction_up); Dummy values are assigned to Categorical Feature - sentiment_label "
   ]
  },
  {
   "cell_type": "code",
   "execution_count": 26,
   "metadata": {},
   "outputs": [],
   "source": [
    "# Calculate daily returns\n",
    "final_data['Daily_Return'] = final_data['Close'].diff()  \n",
    "\n",
    "# Create the 'Price_Direction' variable based on daily returns\n",
    "final_data['Price_Direction'] = 'direction_down'  # Initialize as 'direction_down'\n",
    "final_data.loc[final_data['Daily_Return'] > 0, 'Price_Direction'] = 'direction_up'\n",
    "\n",
    "# Drop the first row since it has a NaN value in 'Daily_Return' due to the diff operation\n",
    "final_data = final_data.dropna()\n",
    "\n",
    "# Perform label encoding on the 'sentiment_label' column\n",
    "label_encoder = LabelEncoder()\n",
    "final_data['sentiment_label_encoded'] = label_encoder.fit_transform(final_data['sentiment_label'])\n",
    "\n"
   ]
  },
  {
   "cell_type": "markdown",
   "metadata": {},
   "source": [
    "#### Step 2: Create a Heatmap to check Multicollinearity issue. Open, High and Low Features are omitted as they suffer from Multicollinearity"
   ]
  },
  {
   "cell_type": "code",
   "execution_count": 29,
   "metadata": {},
   "outputs": [
    {
     "data": {
      "image/png": "[encoded data removed]",
      "text/plain": [
       "<Figure size 1000x800 with 2 Axes>"
      ]
     },
     "metadata": {},
     "output_type": "display_data"
    }
   ],
   "source": [
    "features = final_data[['Open', 'High', 'Low', 'Volume', 'sentiment_label_encoded', 'polarity']]\n",
    "\n",
    "# Calculate the correlation matrix\n",
    "correlation_matrix = features.corr()\n",
    "\n",
    "# Create a colorful correlation heatmap\n",
    "plt.figure(figsize=(10, 8))\n",
    "sns.set(style=\"white\")  # Set the background style\n",
    "sns.heatmap(correlation_matrix, annot=True, cmap=\"coolwarm\", fmt=\".2f\", linewidths=0.5)\n",
    "plt.title(\"Correlation Heatmap\")\n",
    "\n",
    "# Save the plot as an image\n",
    "plt.savefig(BLD / \"Result\" / \"Heatmap.png\")\n",
    "\n",
    "plt.show()\n"
   ]
  },
  {
   "cell_type": "markdown",
   "metadata": {},
   "source": [
    "#### Step 3: Data is split into Train and Test data"
   ]
  },
  {
   "cell_type": "code",
   "execution_count": 30,
   "metadata": {},
   "outputs": [],
   "source": [
    "# Specify feature columns (X) and target column (y)\n",
    "X = final_data[['Volume', 'sentiment_label_encoded', 'polarity']]\n",
    "y = final_data['Price_Direction']\n",
    "\n",
    "# Split the data into training and testing sets\n",
    "X_train, X_test, y_train, y_test = train_test_split(X, y, test_size=0.3, random_state=1234)"
   ]
  },
  {
   "cell_type": "markdown",
   "metadata": {},
   "source": [
    "#### Step 4: Logistic Regression is employed initially with penalty = None"
   ]
  },
  {
   "cell_type": "code",
   "execution_count": 34,
   "metadata": {},
   "outputs": [
    {
     "name": "stdout",
     "output_type": "stream",
     "text": [
      "Coefficients:\n",
      "                   Feature  Coefficient  Magnitude\n",
      "2                 polarity     0.975986   0.975986\n",
      "1  sentiment_label_encoded     0.057390   0.057390\n",
      "0                   Volume    -0.003258   0.003258\n",
      "Intercept: -0.09162261523083415\n"
     ]
    }
   ],
   "source": [
    "\n",
    "\n",
    "# Create and train a Logistic Regression model\n",
    "model = LogisticRegression(random_state=42, fit_intercept=True,penalty=None)\n",
    "model.fit(X_train, y_train)\n",
    "\n",
    "# Make predictions on the test set\n",
    "y_pred = model.predict(X_test)\n",
    "\n",
    "# Extract and interpret the coefficients\n",
    "coefficients = model.coef_[0]\n",
    "intercept = model.intercept_[0]\n",
    "\n",
    "# Create a DataFrame to display the coefficients\n",
    "coefficients_df = pd.DataFrame({'Feature': X.columns, 'Coefficient': coefficients})\n",
    "coefficients_df['Magnitude'] = coefficients_df['Coefficient'].abs()\n",
    "\n",
    "# Sort the coefficients by magnitude\n",
    "coefficients_df = coefficients_df.sort_values(by='Magnitude', ascending=False)\n",
    "\n",
    "# Display the coefficients\n",
    "print(\"Coefficients:\")\n",
    "print(coefficients_df)\n",
    "\n",
    "# Intercept term\n",
    "print(f\"Intercept: {intercept}\")\n",
    "\n",
    "\n"
   ]
  },
  {
   "cell_type": "markdown",
   "metadata": {},
   "source": [
    "#### Step 5: Model is evaluated using Accuracy score and Classification Report"
   ]
  },
  {
   "cell_type": "code",
   "execution_count": 35,
   "metadata": {},
   "outputs": [
    {
     "name": "stdout",
     "output_type": "stream",
     "text": [
      "Accuracy: 0.5279731993299832\n",
      "Classification Report:\n",
      "                precision    recall  f1-score   support\n",
      "\n",
      "direction_down       0.51      0.23      0.32      1418\n",
      "  direction_up       0.53      0.80      0.64      1567\n",
      "\n",
      "      accuracy                           0.53      2985\n",
      "     macro avg       0.52      0.51      0.48      2985\n",
      "  weighted avg       0.52      0.53      0.49      2985\n",
      "\n"
     ]
    }
   ],
   "source": [
    "# Evaluate the model\n",
    "accuracy = accuracy_score(y_test, y_pred)\n",
    "classification_report_str = classification_report(y_test, y_pred, zero_division=1)\n",
    "\n",
    "print(f\"Accuracy: {accuracy}\")\n",
    "print(\"Classification Report:\")\n",
    "print(classification_report_str)"
   ]
  },
  {
   "cell_type": "markdown",
   "metadata": {},
   "source": [
    "#### Step 6: Systematic hyperparameter tuning using GridSearchCV method"
   ]
  },
  {
   "cell_type": "code",
   "execution_count": 36,
   "metadata": {},
   "outputs": [
    {
     "data": {
      "text/html": [
       "<style>#sk-container-id-1 {color: black;}#sk-container-id-1 pre{padding: 0;}#sk-container-id-1 div.sk-toggleable {background-color: white;}#sk-container-id-1 label.sk-toggleable__label {cursor: pointer;display: block;width: 100%;margin-bottom: 0;padding: 0.3em;box-sizing: border-box;text-align: center;}#sk-container-id-1 label.sk-toggleable__label-arrow:before {content: \"▸\";float: left;margin-right: 0.25em;color: #696969;}#sk-container-id-1 label.sk-toggleable__label-arrow:hover:before {color: black;}#sk-container-id-1 div.sk-estimator:hover label.sk-toggleable__label-arrow:before {color: black;}#sk-container-id-1 div.sk-toggleable__content {max-height: 0;max-width: 0;overflow: hidden;text-align: left;background-color: #f0f8ff;}#sk-container-id-1 div.sk-toggleable__content pre {margin: 0.2em;color: black;border-radius: 0.25em;background-color: #f0f8ff;}#sk-container-id-1 input.sk-toggleable__control:checked~div.sk-toggleable__content {max-height: 200px;max-width: 100%;overflow: auto;}#sk-container-id-1 input.sk-toggleable__control:checked~label.sk-toggleable__label-arrow:before {content: \"▾\";}#sk-container-id-1 div.sk-estimator input.sk-toggleable__control:checked~label.sk-toggleable__label {background-color: #d4ebff;}#sk-container-id-1 div.sk-label input.sk-toggleable__control:checked~label.sk-toggleable__label {background-color: #d4ebff;}#sk-container-id-1 input.sk-hidden--visually {border: 0;clip: rect(1px 1px 1px 1px);clip: rect(1px, 1px, 1px, 1px);height: 1px;margin: -1px;overflow: hidden;padding: 0;position: absolute;width: 1px;}#sk-container-id-1 div.sk-estimator {font-family: monospace;background-color: #f0f8ff;border: 1px dotted black;border-radius: 0.25em;box-sizing: border-box;margin-bottom: 0.5em;}#sk-container-id-1 div.sk-estimator:hover {background-color: #d4ebff;}#sk-container-id-1 div.sk-parallel-item::after {content: \"\";width: 100%;border-bottom: 1px solid gray;flex-grow: 1;}#sk-container-id-1 div.sk-label:hover label.sk-toggleable__label {background-color: #d4ebff;}#sk-container-id-1 div.sk-serial::before {content: \"\";position: absolute;border-left: 1px solid gray;box-sizing: border-box;top: 0;bottom: 0;left: 50%;z-index: 0;}#sk-container-id-1 div.sk-serial {display: flex;flex-direction: column;align-items: center;background-color: white;padding-right: 0.2em;padding-left: 0.2em;position: relative;}#sk-container-id-1 div.sk-item {position: relative;z-index: 1;}#sk-container-id-1 div.sk-parallel {display: flex;align-items: stretch;justify-content: center;background-color: white;position: relative;}#sk-container-id-1 div.sk-item::before, #sk-container-id-1 div.sk-parallel-item::before {content: \"\";position: absolute;border-left: 1px solid gray;box-sizing: border-box;top: 0;bottom: 0;left: 50%;z-index: -1;}#sk-container-id-1 div.sk-parallel-item {display: flex;flex-direction: column;z-index: 1;position: relative;background-color: white;}#sk-container-id-1 div.sk-parallel-item:first-child::after {align-self: flex-end;width: 50%;}#sk-container-id-1 div.sk-parallel-item:last-child::after {align-self: flex-start;width: 50%;}#sk-container-id-1 div.sk-parallel-item:only-child::after {width: 0;}#sk-container-id-1 div.sk-dashed-wrapped {border: 1px dashed gray;margin: 0 0.4em 0.5em 0.4em;box-sizing: border-box;padding-bottom: 0.4em;background-color: white;}#sk-container-id-1 div.sk-label label {font-family: monospace;font-weight: bold;display: inline-block;line-height: 1.2em;}#sk-container-id-1 div.sk-label-container {text-align: center;}#sk-container-id-1 div.sk-container {/* jupyter's `normalize.less` sets `[hidden] { display: none; }` but bootstrap.min.css set `[hidden] { display: none !important; }` so we also need the `!important` here to be able to override the default hidden behavior on the sphinx rendered scikit-learn.org. See: https://github.com/scikit-learn/scikit-learn/issues/21755 */display: inline-block !important;position: relative;}#sk-container-id-1 div.sk-text-repr-fallback {display: none;}</style><div id=\"sk-container-id-1\" class=\"sk-top-container\"><div class=\"sk-text-repr-fallback\"><pre>GridSearchCV(cv=7, estimator=LogisticRegression(),\n",
       "             param_grid={&#x27;C&#x27;: [1, 10, 100], &#x27;penalty&#x27;: [&#x27;l2&#x27;]})</pre><b>In a Jupyter environment, please rerun this cell to show the HTML representation or trust the notebook. <br />On GitHub, the HTML representation is unable to render, please try loading this page with nbviewer.org.</b></div><div class=\"sk-container\" hidden><div class=\"sk-item sk-dashed-wrapped\"><div class=\"sk-label-container\"><div class=\"sk-label sk-toggleable\"><input class=\"sk-toggleable__control sk-hidden--visually\" id=\"sk-estimator-id-1\" type=\"checkbox\" ><label for=\"sk-estimator-id-1\" class=\"sk-toggleable__label sk-toggleable__label-arrow\">GridSearchCV</label><div class=\"sk-toggleable__content\"><pre>GridSearchCV(cv=7, estimator=LogisticRegression(),\n",
       "             param_grid={&#x27;C&#x27;: [1, 10, 100], &#x27;penalty&#x27;: [&#x27;l2&#x27;]})</pre></div></div></div><div class=\"sk-parallel\"><div class=\"sk-parallel-item\"><div class=\"sk-item\"><div class=\"sk-label-container\"><div class=\"sk-label sk-toggleable\"><input class=\"sk-toggleable__control sk-hidden--visually\" id=\"sk-estimator-id-2\" type=\"checkbox\" ><label for=\"sk-estimator-id-2\" class=\"sk-toggleable__label sk-toggleable__label-arrow\">estimator: LogisticRegression</label><div class=\"sk-toggleable__content\"><pre>LogisticRegression()</pre></div></div></div><div class=\"sk-serial\"><div class=\"sk-item\"><div class=\"sk-estimator sk-toggleable\"><input class=\"sk-toggleable__control sk-hidden--visually\" id=\"sk-estimator-id-3\" type=\"checkbox\" ><label for=\"sk-estimator-id-3\" class=\"sk-toggleable__label sk-toggleable__label-arrow\">LogisticRegression</label><div class=\"sk-toggleable__content\"><pre>LogisticRegression()</pre></div></div></div></div></div></div></div></div></div></div>"
      ],
      "text/plain": [
       "GridSearchCV(cv=7, estimator=LogisticRegression(),\n",
       "             param_grid={'C': [1, 10, 100], 'penalty': ['l2']})"
      ]
     },
     "execution_count": 36,
     "metadata": {},
     "output_type": "execute_result"
    }
   ],
   "source": [
    "from sklearn.model_selection import GridSearchCV\n",
    "param_grid = {\"penalty\": [\"l2\"],\"C\": [1, 10, 100]}\n",
    "grid = GridSearchCV(LogisticRegression(),param_grid,cv=7 )\n",
    "grid.fit(X_train, y_train)\n"
   ]
  },
  {
   "cell_type": "code",
   "execution_count": 37,
   "metadata": {},
   "outputs": [
    {
     "data": {
      "text/plain": [
       "{'C': 1, 'penalty': 'l2'}"
      ]
     },
     "execution_count": 37,
     "metadata": {},
     "output_type": "execute_result"
    }
   ],
   "source": [
    "grid.best_params_"
   ]
  },
  {
   "cell_type": "code",
   "execution_count": 38,
   "metadata": {},
   "outputs": [
    {
     "data": {
      "text/plain": [
       "0.5319932998324958"
      ]
     },
     "execution_count": 38,
     "metadata": {},
     "output_type": "execute_result"
    }
   ],
   "source": [
    "grid.best_estimator_.score(X_test, y_test)"
   ]
  },
  {
   "cell_type": "markdown",
   "metadata": {},
   "source": [
    "#### Step 7: Set-up the parametes, based on the tuning suggestions and evaluate the performance of the model"
   ]
  },
  {
   "cell_type": "code",
   "execution_count": 43,
   "metadata": {},
   "outputs": [
    {
     "name": "stdout",
     "output_type": "stream",
     "text": [
      "Accuracy: 0.5061976549413736\n",
      "Classification Report:\n",
      "                precision    recall  f1-score   support\n",
      "\n",
      "direction_down       0.48      0.44      0.46      1418\n",
      "  direction_up       0.53      0.56      0.55      1567\n",
      "\n",
      "      accuracy                           0.51      2985\n",
      "     macro avg       0.50      0.50      0.50      2985\n",
      "  weighted avg       0.50      0.51      0.50      2985\n",
      "\n"
     ]
    }
   ],
   "source": [
    "\n",
    "\n",
    "# Create and train a Logistic Regression model\n",
    "model = LogisticRegression(random_state=10, fit_intercept=True, class_weight='balanced', penalty='l2', C = 1)\n",
    "model.fit(X_train, y_train)\n",
    "\n",
    "# Make predictions on the test set\n",
    "y_pred = model.predict(X_test)\n",
    "\n",
    "# Evaluate the model\n",
    "accuracy = accuracy_score(y_test, y_pred)\n",
    "classification_report_str = classification_report(y_test, y_pred, zero_division=1)\n",
    "\n",
    "print(f\"Accuracy: {accuracy}\")\n",
    "print(\"Classification Report:\")\n",
    "print(classification_report_str)\n"
   ]
  },
  {
   "cell_type": "markdown",
   "metadata": {},
   "source": [
    "#### Step 8: graphical Representation:  Sentiment analysis features (Sentiment_Label, Polarity) Vs Target (Price_Direction)"
   ]
  },
  {
   "cell_type": "code",
   "execution_count": 44,
   "metadata": {},
   "outputs": [
    {
     "data": {
      "image/png": "[encoded data removed]",
      "text/plain": [
       "<Figure size 800x600 with 1 Axes>"
      ]
     },
     "metadata": {},
     "output_type": "display_data"
    }
   ],
   "source": [
    "import matplotlib.pyplot as plt\n",
    "import seaborn as sns\n",
    "\n",
    "# Define the categorical feature variable\n",
    "categorical_feature = 'sentiment_label'\n",
    "\n",
    "# Define the target variable\n",
    "target = 'Price_Direction'\n",
    "\n",
    "# Create a grouped bar chart to visualize the relationship between the categorical variable and the target\n",
    "plt.figure(figsize=(8, 6))\n",
    "sns.countplot(x=categorical_feature, hue=target, data=final_data, palette='coolwarm')\n",
    "\n",
    "# Add labels and a legend\n",
    "plt.xlabel(categorical_feature)\n",
    "plt.ylabel('Count')\n",
    "plt.title('Grouped Bar Chart of CSentiment_label vs. Price')\n",
    "plt.legend(title=target)\n",
    "# Save the plot as an image\n",
    "plt.savefig(BLD / \"Result\" / \"sentiment_vs_Price.png\")\n",
    "# Show the plot\n",
    "plot_show = plt.show()\n",
    "\n",
    "\n"
   ]
  },
  {
   "cell_type": "code",
   "execution_count": 45,
   "metadata": {},
   "outputs": [
    {
     "name": "stderr",
     "output_type": "stream",
     "text": [
      "No artists with labels found to put in legend.  Note that artists whose label start with an underscore are ignored when legend() is called with no argument.\n"
     ]
    },
    {
     "data": {
      "image/png": "[encoded data removed]",
      "text/plain": [
       "<Figure size 800x600 with 1 Axes>"
      ]
     },
     "metadata": {},
     "output_type": "display_data"
    }
   ],
   "source": [
    "feature = 'polarity'\n",
    "# Define the target variable\n",
    "target = 'Price_Direction'\n",
    "\n",
    "# Create a grouped bar chart to visualize the relationship between the categorical variable and the target\n",
    "plt.figure(figsize=(8, 6))\n",
    "sns.violinplot(x=feature, hue=target, data=final_data, palette='coolwarm')\n",
    "\n",
    "# Add labels and a legend\n",
    "plt.xlabel(feature)\n",
    "plt.ylabel(target)\n",
    "plt.title('Grouped Bar Chart of polarity_vs_Price Direction')\n",
    "plt.legend(title=target)\n",
    "\n",
    "# Save the plot as an image\n",
    "plt.savefig(BLD / \"Result\" / \"polarity_vs_Price.png\")\n",
    "# Show the plot\n",
    "plot_show = plt.show()"
   ]
  }
 ],
 "metadata": {
  "kernelspec": {
   "display_name": "dl_project",
   "language": "python",
   "name": "python3"
  },
  "language_info": {
   "codemirror_mode": {
    "name": "ipython",
    "version": 3
   },
   "file_extension": ".py",
   "mimetype": "text/x-python",
   "name": "python",
   "nbconvert_exporter": "python",
   "pygments_lexer": "ipython3",
   "version": "3.11.5"
  },
  "orig_nbformat": 4
 },
 "nbformat": 4,
 "nbformat_minor": 2
}
